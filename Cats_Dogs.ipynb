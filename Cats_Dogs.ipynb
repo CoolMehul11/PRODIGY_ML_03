{
 "cells": [
  {
   "cell_type": "code",
   "execution_count": 19,
   "id": "49d3edab-5fa0-4cd0-8cff-1852843be0fa",
   "metadata": {},
   "outputs": [],
   "source": [
    "import os\n",
    "from skimage import io,transform\n",
    "import numpy as np\n",
    "import matplotlib.pyplot as plt"
   ]
  },
  {
   "cell_type": "code",
   "execution_count": 20,
   "id": "dc7b4ca7-7f3e-4123-b7f0-5e207a628909",
   "metadata": {},
   "outputs": [],
   "source": [
    "def load_images(folder, label, n_samples, img_size = (200,200)):\n",
    "    images = []\n",
    "    labels = []\n",
    "    i = 0\n",
    "    for filename in os.listdir(folder):\n",
    "        if(i>=n_samples):\n",
    "            break\n",
    "        i+=1\n",
    "        img_path = os.path.join(folder, filename)\n",
    "        img = io.imread(img_path)\n",
    "        if img is not None:\n",
    "            img = transform.resize(img, img_size)\n",
    "            images.append(img)\n",
    "            labels.append(label)\n",
    "    return images, labels"
   ]
  },
  {
   "cell_type": "code",
   "execution_count": 21,
   "id": "75acb2b1-abf7-46ba-84a3-f4a557d51fcd",
   "metadata": {},
   "outputs": [],
   "source": [
    "cat_folder = 'cat'\n",
    "dog_folder = 'dog'"
   ]
  },
  {
   "cell_type": "code",
   "execution_count": 31,
   "id": "75fe2d70-2419-4db8-87b3-f163a6bc2e58",
   "metadata": {},
   "outputs": [],
   "source": [
    "cats_images, cats_labels = load_images(cat_folder, 0, 500) \n",
    "dogs_images, dogs_labels = load_images(dog_folder, 1, 500)"
   ]
  },
  {
   "cell_type": "code",
   "execution_count": 32,
   "id": "3936c07b-64c3-4938-817b-be355c5ddfa8",
   "metadata": {},
   "outputs": [],
   "source": [
    "from sklearn.model_selection import train_test_split\n",
    "from sklearn.svm import SVC"
   ]
  },
  {
   "cell_type": "code",
   "execution_count": 33,
   "id": "0acbff06-a07a-475e-a9bf-5b0849099415",
   "metadata": {},
   "outputs": [
    {
     "name": "stdout",
     "output_type": "stream",
     "text": [
      "1000\n",
      "[1 1 1 1 0 1 1 1 1 0 1 0 1 1 1 1 0 1 1 0 1 0 0 1 0 0 0 1 1 1 0 0 1 0 0 0 1\n",
      " 1 1 0 0 0 0 1 0 0 1 1 0 1 1 1 0 1 0 0 1 0 0 1 0 0 1 0 1 1 1 1 0 1 0 0 1 1\n",
      " 0 0 1 0 1 0 1 0 0 0 0 1 1 1 1 0 0 0 1 0 1 0 1 0 0 1 1 0 1 0 1 1 1 1 0 1 1\n",
      " 1 1 1 0 0 0 1 1 0 1 0 1 0 0 1 1 0 1 1 1 1 0 1 1 0 0 0 0 0 0 0 1 0 1 1 1 0\n",
      " 1 0 1 0 1 0 1 0 0 1 0 1 1 1 1 1 1 1 0 1 0 0 0 0 0 1 0 0 0 0 1 1 0 1 0 1 1\n",
      " 0 0 0 1 1 1 1 1 0 0 0 0 0 1 0]\n",
      "[0 1 1 0 1 1 1 0 1 1 1 0 0 1 0 0 1 0 1 0 1 0 0 0 0 1 0 1 0 0 0 0 1 0 1 1 1\n",
      " 1 1 1 0 0 1 0 1 0 1 0 0 1 0 0 1 0 0 1 1 1 1 1 1 0 1 1 0 0 1 1 0 1 0 1 0 1\n",
      " 1 0 1 0 0 0 0 0 1 1 1 0 1 1 0 0 1 1 0 0 0 0 1 1 0 0 1 1 1 1 1 0 0 1 0 1 1\n",
      " 1 0 0 0 1 0 0 0 0 0 0 0 1 1 0 0 0 1 0 0 0 0 0 1 1 0 0 0 0 0 0 0 0 0 1 0 0\n",
      " 0 1 1 1 0 0 1 0 0 1 0 1 0 1 1 0 1 1 0 0 0 0 0 0 0 0 1 0 0 1 0 0 0 0 1 0 1\n",
      " 0 0 0 1 0 1 1 0 1 0 1 0 0 0 0]\n"
     ]
    }
   ],
   "source": [
    "images = cats_images + dogs_images\n",
    "labels = cats_labels + dogs_labels\n",
    "\n",
    "# Convert to numpy arrays\n",
    "images = np.array(images)\n",
    "labels = np.array(labels)\n",
    "\n",
    "# Flatten the images\n",
    "n_samples, h, w, _ = images.shape\n",
    "images_flattened = images.reshape(n_samples, h*w*3)\n",
    "\n",
    "print(len(images))\n",
    "\n",
    "X_train, X_test, y_train, y_test = train_test_split(images_flattened, labels, test_size=0.2, random_state=42)\n",
    "\n",
    "svm = SVC(kernel='linear', C=0.5, random_state=42)\n",
    "svm.fit(X_train, y_train)\n",
    "\n",
    "y_pred = svm.predict(X_test)\n",
    "print(y_test)\n",
    "print(y_pred)"
   ]
  },
  {
   "cell_type": "code",
   "execution_count": 34,
   "id": "405cf216-670e-4d46-8486-42371761163c",
   "metadata": {},
   "outputs": [
    {
     "name": "stdout",
     "output_type": "stream",
     "text": [
      "Accuracy: 0.545\n"
     ]
    }
   ],
   "source": [
    "from sklearn.metrics import classification_report, accuracy_score\n",
    "\n",
    "print(f'Accuracy: {accuracy_score(y_test, y_pred)}')"
   ]
  },
  {
   "cell_type": "code",
   "execution_count": null,
   "id": "959bb9b1-122e-4a1d-a3ba-5589654317c8",
   "metadata": {},
   "outputs": [],
   "source": []
  }
 ],
 "metadata": {
  "kernelspec": {
   "display_name": "Python 3 (ipykernel)",
   "language": "python",
   "name": "python3"
  },
  "language_info": {
   "codemirror_mode": {
    "name": "ipython",
    "version": 3
   },
   "file_extension": ".py",
   "mimetype": "text/x-python",
   "name": "python",
   "nbconvert_exporter": "python",
   "pygments_lexer": "ipython3",
   "version": "3.11.5"
  }
 },
 "nbformat": 4,
 "nbformat_minor": 5
}
